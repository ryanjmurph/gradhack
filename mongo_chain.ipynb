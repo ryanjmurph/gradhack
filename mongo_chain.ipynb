{
  "cells": [
    {
      "cell_type": "code",
      "execution_count": 15,
      "metadata": {
        "id": "3t9TeTbRYR1W"
      },
      "outputs": [],
      "source": [
        "from langchain_community.document_loaders import PyPDFLoader\n",
        "from langchain.text_splitter import RecursiveCharacterTextSplitter, CharacterTextSplitter\n",
        "from langchain.vectorstores import Chroma\n",
        "from langchain.embeddings.openai import OpenAIEmbeddings\n",
        "import openai\n",
        "import os\n",
        "import bson\n",
        "from pymongo import MongoClient\n"
      ]
    },
    {
      "cell_type": "code",
      "execution_count": 37,
      "metadata": {
        "id": "KW8qEUd5c4iC"
      },
      "outputs": [],
      "source": [
        "from pymongo import MongoClient\n",
        "\n",
        "def loadDataFromMongo(mongo_url='mongodb://localhost:27017/', db_name='gradhack', collection_name='discovery'):\n",
        "    # Connect to MongoDB\n",
        "    client = MongoClient(mongo_url)\n",
        "\n",
        "    # Access the database\n",
        "    db = client[db_name]\n",
        "\n",
        "    # Access the collection\n",
        "    collection = db[collection_name]\n",
        "\n",
        "    # Retrieve multiple documents\n",
        "    documents = collection.find()\n",
        "    \n",
        "    # Convert to list\n",
        "    data = list(documents)\n",
        "    \n",
        "    return data\n"
      ]
    },
    {
      "cell_type": "code",
      "execution_count": null,
      "metadata": {},
      "outputs": [],
      "source": [
        "# Define the SimpleDocument class\n",
        "class SimpleDocument:\n",
        "    def __init__(self, text, metadata=None):\n",
        "        self.page_content = text\n",
        "        self.metadata = metadata if metadata is not None else {}\n",
        "\n",
        "# Utility function to filter complex metadata types\n",
        "def filter_complex_metadata(metadata):\n",
        "    filtered_metadata = {}\n",
        "    for key, value in metadata.items():\n",
        "        if isinstance(value, (str, int, float, bool)):\n",
        "            filtered_metadata[key] = value\n",
        "        elif isinstance(value, bson.ObjectId):\n",
        "            filtered_metadata[key] = str(value)  # Convert ObjectId to string\n",
        "    return filtered_metadata\n",
        "\n",
        "# Function to load data from MongoDB\n",
        "def loadDataFromMongo(mongo_url='mongodb://localhost:27017/', db_name='gradhack', collection_name='discovery'):\n",
        "    client = MongoClient(mongo_url)\n",
        "    db = client[db_name]\n",
        "    collection = db[collection_name]\n",
        "    documents = collection.find()\n",
        "    data = list(documents)\n",
        "    return data"
      ]
    },
    {
      "cell_type": "code",
      "execution_count": 43,
      "metadata": {},
      "outputs": [],
      "source": [
        "\n",
        "\n",
        "# Load data from MongoDB\n",
        "data = loadDataFromMongo()\n",
        "\n",
        "# Extract text content from the loaded data\n",
        "docs = []\n",
        "for doc in data:\n",
        "    if 'content' in doc:  # Assuming 'content' field contains the text data\n",
        "        filtered_metadata = filter_complex_metadata(doc)\n",
        "        docs.append(SimpleDocument(text=doc['content'], metadata=filtered_metadata))\n",
        "    else:\n",
        "        # Process structured client data\n",
        "        content = f\"Client Name: {doc.get('name', 'N/A')}\\n\"\n",
        "        content += f\"Client Age: {doc.get('age', 'N/A')}\\n\"\n",
        "        content += f\"Client Address: {doc.get('address', 'N/A')}\\n\"\n",
        "        if 'accounts' in doc:\n",
        "            for account in doc['accounts']:\n",
        "                content += f\"Account ID: {account.get('account_id', 'N/A')}, Type: {account.get('account_type', 'N/A')}, Balance: {account.get('balance', 'N/A')}\\n\"\n",
        "        if 'transactions' in doc:\n",
        "            for transaction in doc['transactions']:\n",
        "                content += f\"Transaction ID: {transaction.get('transaction_id', 'N/A')}, Account ID: {transaction.get('account_id', 'N/A')}, Date: {transaction.get('date', 'N/A')}, Amount: {transaction.get('amount', 'N/A')}, Description: {transaction.get('description', 'N/A')}\\n\"\n",
        "        filtered_metadata = filter_complex_metadata(doc)\n",
        "        docs.append(SimpleDocument(text=content, metadata=filtered_metadata))"
      ]
    },
    {
      "cell_type": "code",
      "execution_count": 44,
      "metadata": {
        "id": "TxR7LN8bdM6u"
      },
      "outputs": [],
      "source": [
        "from langchain.text_splitter import RecursiveCharacterTextSplitter\n",
        "from langchain.vectorstores import Chroma\n",
        "\n",
        "text_splitter = RecursiveCharacterTextSplitter(\n",
        "    chunk_size=1500,\n",
        "    chunk_overlap=150\n",
        ")\n",
        "\n",
        "# Create splits of the document using the text splitter\n",
        "splits = text_splitter.split_documents(docs)\n",
        "\n"
      ]
    },
    {
      "cell_type": "code",
      "execution_count": 45,
      "metadata": {},
      "outputs": [
        {
          "name": "stdout",
          "output_type": "stream",
          "text": [
            "462\n"
          ]
        }
      ],
      "source": [
        "# Generate unique IDs for each split\n",
        "ids = [f\"doc_{i}\" for i in range(len(splits))]\n",
        "\n",
        "# Initialize the embedding model\n",
        "embedding = OpenAIEmbeddings()\n",
        "\n",
        "# Specify the directory to persist the Chroma vector store\n",
        "persist_directory = 'docs/chroma/'\n",
        "\n",
        "# Create the vector store\n",
        "vectordb = Chroma.from_documents(\n",
        "    documents=splits,\n",
        "    embedding=embedding,\n",
        "    ids=ids,\n",
        "    persist_directory=persist_directory\n",
        ")\n",
        "\n",
        "# Example: Print the number of documents in the vector store\n",
        "print(vectordb._collection.count())"
      ]
    },
    {
      "cell_type": "code",
      "execution_count": 46,
      "metadata": {},
      "outputs": [
        {
          "name": "stdout",
          "output_type": "stream",
          "text": [
            "[Document(page_content=\"1 The followining information pertains specifically to Discovery Bank Gold account  The Discovery Bank  Gold Card Account  Qualifying income from R100,000 to R350,000 a year  R100 per month  Everyday banking with fantastic rewards     If you're looking for an account that's flexible, affordable and gives you more than just a  credit card, then the Discovery Bank Gold Card Account is the smart choice for you.  Plus, you can unlock fantastic value and rewards with your good banking behaviour.  Why are we calling it more than just a credit card? Because you get a credit card with full  transactional capabilities including the ability to set up third-party debit orders, make  digital payments and accept salary deposits. You get up to 55 days' interest-free credit  on select transactions, and you can manage your credit easily with the most flexible  credit facility in the market. Plus, you can add as many free savings accounts as you  need to achieve your goals. And you also get access to the only Real-Time Forex  Accounts, available 24/7 on your banking app.  Engage with our Vitality Money programme and unlock your personalised shared-value  stack of lifestyle and travel rewards. You can get up to 40% back on HealthyFood and  save up to 10% on fuel and Uber rides.  And that's only the beginning.  Get the account that rewards you for getting financially fit  Discovery Bank rewards clients with Discovery Miles for getting healthier, driving well  and spending responsibly.\", metadata={'_id': '66801ffab1af5b73e43d37ce', 'type': 'plain_text', 'content': \" 1 The followining information pertains specifically to Discovery Bank Gold account  The Discovery Bank  Gold Card Account  Qualifying income from R100,000 to R350,000 a year  R100 per month  Everyday banking with fantastic rewards     If you're looking for an account that's flexible, affordable and gives you more than just a  credit card, then the Discovery Bank Gold Card Account is the smart choice for you.  Plus, you can unlock fantastic value and rewards with your good banking behaviour.  Why are we calling it more than just a credit card? Because you get a credit card with full  transactional capabilities including the ability to set up third-party debit orders, make  digital payments and accept salary deposits. You get up to 55 days' interest-free credit  on select transactions, and you can manage your credit easily with the most flexible  credit facility in the market. Plus, you can add as many free savings accounts as you  need to achieve your goals. And you also get access to the only Real-Time Forex  Accounts, available 24/7 on your banking app.  Engage with our Vitality Money programme and unlock your personalised shared-value  stack of lifestyle and travel rewards. You can get up to 40% back on HealthyFood and  save up to 10% on fuel and Uber rides.  And that's only the beginning.  Get the account that rewards you for getting financially fit  Discovery Bank rewards clients with Discovery Miles for getting healthier, driving well  and spending responsibly. Discovery Miles is Discovery's rewards currency that's more  versatile - and more valuable - than cash, with more ways to earn and spend them than  ever before.  With a Discovery Bank Gold Card Account you can earn the following rewards in  Discovery Miles:  Up to   40%  back on healthy groceries at Pick n Pay or Woolworths with HealthyFood                  Up to   10%  back on fuel purchases at bp and select Shell service stations, and up to 10% back on  Uber rides                 Up to   2.5%  back on Bank-Integrated Discovery Life plan premiums             You'll receive 10 Discovery Miles for every R1 reward you earn back.  Earn base Discovery Miles on all qualifying credit card and multicurrency debit card  purchases as you spend throughout the month. Plus, earn higher base Discovery Miles  when you use a virtual card, depending on your Vitality Money status.  Earn thousands of Discovery Miles every week on the new,  personalised gameboard with Vitality Active Rewards  Your goals  Achieve your weekly Spend, Exercise or Drive goal to unlock Activity tiles of up to Ð1,000    Your products  Unlock the Discovery tile of up to Ð750 based on how many Discovery products you  have    Your spend  Spend at our grocery, pharmacy and fuel partners to unlock the Partner Spend tiles of  up to Ð1,000 for the chance to earn your largest weekly transactions back  \"}), Document(page_content=\"you for getting financially fit  Discovery Bank rewards clients with Discovery Miles for getting healthier, driving well  and spending responsibly. Discovery Miles is Discovery's rewards currency that's more  versatile - and more valuable - than cash, with more ways to earn and spend them than  ever before.  With a Discovery Bank Gold Card Account you can earn the following rewards in  Discovery Miles:  Up to   40%  back on healthy groceries at Pick n Pay or Woolworths with HealthyFood                  Up to   10%  back on fuel purchases at bp and select Shell service stations, and up to 10% back on  Uber rides                 Up to   2.5%  back on Bank-Integrated Discovery Life plan premiums             You'll receive 10 Discovery Miles for every R1 reward you earn back.  Earn base Discovery Miles on all qualifying credit card and multicurrency debit card  purchases as you spend throughout the month. Plus, earn higher base Discovery Miles  when you use a virtual card, depending on your Vitality Money status.  Earn thousands of Discovery Miles every week on the new,  personalised gameboard with Vitality Active Rewards  Your goals  Achieve your weekly Spend, Exercise or Drive goal to unlock Activity tiles of up to Ð1,000    Your products  Unlock the Discovery tile of up to Ð750 based on how many Discovery products you  have    Your spend  Spend at our grocery, pharmacy and fuel partners to unlock the Partner Spend tiles of  up to Ð1,000 for the chance to earn your largest\", metadata={'_id': '66801ffab1af5b73e43d37ce', 'type': 'plain_text', 'content': \" 1 The followining information pertains specifically to Discovery Bank Gold account  The Discovery Bank  Gold Card Account  Qualifying income from R100,000 to R350,000 a year  R100 per month  Everyday banking with fantastic rewards     If you're looking for an account that's flexible, affordable and gives you more than just a  credit card, then the Discovery Bank Gold Card Account is the smart choice for you.  Plus, you can unlock fantastic value and rewards with your good banking behaviour.  Why are we calling it more than just a credit card? Because you get a credit card with full  transactional capabilities including the ability to set up third-party debit orders, make  digital payments and accept salary deposits. You get up to 55 days' interest-free credit  on select transactions, and you can manage your credit easily with the most flexible  credit facility in the market. Plus, you can add as many free savings accounts as you  need to achieve your goals. And you also get access to the only Real-Time Forex  Accounts, available 24/7 on your banking app.  Engage with our Vitality Money programme and unlock your personalised shared-value  stack of lifestyle and travel rewards. You can get up to 40% back on HealthyFood and  save up to 10% on fuel and Uber rides.  And that's only the beginning.  Get the account that rewards you for getting financially fit  Discovery Bank rewards clients with Discovery Miles for getting healthier, driving well  and spending responsibly. Discovery Miles is Discovery's rewards currency that's more  versatile - and more valuable - than cash, with more ways to earn and spend them than  ever before.  With a Discovery Bank Gold Card Account you can earn the following rewards in  Discovery Miles:  Up to   40%  back on healthy groceries at Pick n Pay or Woolworths with HealthyFood                  Up to   10%  back on fuel purchases at bp and select Shell service stations, and up to 10% back on  Uber rides                 Up to   2.5%  back on Bank-Integrated Discovery Life plan premiums             You'll receive 10 Discovery Miles for every R1 reward you earn back.  Earn base Discovery Miles on all qualifying credit card and multicurrency debit card  purchases as you spend throughout the month. Plus, earn higher base Discovery Miles  when you use a virtual card, depending on your Vitality Money status.  Earn thousands of Discovery Miles every week on the new,  personalised gameboard with Vitality Active Rewards  Your goals  Achieve your weekly Spend, Exercise or Drive goal to unlock Activity tiles of up to Ð1,000    Your products  Unlock the Discovery tile of up to Ð750 based on how many Discovery products you  have    Your spend  Spend at our grocery, pharmacy and fuel partners to unlock the Partner Spend tiles of  up to Ð1,000 for the chance to earn your largest weekly transactions back  \"}), Document(page_content='Your spend  Spend at our grocery, pharmacy and fuel partners to unlock the Partner Spend tiles of  up to Ð1,000 for the chance to earn your largest weekly transactions back', metadata={'_id': '66801ffab1af5b73e43d37ce', 'type': 'plain_text', 'content': \" 1 The followining information pertains specifically to Discovery Bank Gold account  The Discovery Bank  Gold Card Account  Qualifying income from R100,000 to R350,000 a year  R100 per month  Everyday banking with fantastic rewards     If you're looking for an account that's flexible, affordable and gives you more than just a  credit card, then the Discovery Bank Gold Card Account is the smart choice for you.  Plus, you can unlock fantastic value and rewards with your good banking behaviour.  Why are we calling it more than just a credit card? Because you get a credit card with full  transactional capabilities including the ability to set up third-party debit orders, make  digital payments and accept salary deposits. You get up to 55 days' interest-free credit  on select transactions, and you can manage your credit easily with the most flexible  credit facility in the market. Plus, you can add as many free savings accounts as you  need to achieve your goals. And you also get access to the only Real-Time Forex  Accounts, available 24/7 on your banking app.  Engage with our Vitality Money programme and unlock your personalised shared-value  stack of lifestyle and travel rewards. You can get up to 40% back on HealthyFood and  save up to 10% on fuel and Uber rides.  And that's only the beginning.  Get the account that rewards you for getting financially fit  Discovery Bank rewards clients with Discovery Miles for getting healthier, driving well  and spending responsibly. Discovery Miles is Discovery's rewards currency that's more  versatile - and more valuable - than cash, with more ways to earn and spend them than  ever before.  With a Discovery Bank Gold Card Account you can earn the following rewards in  Discovery Miles:  Up to   40%  back on healthy groceries at Pick n Pay or Woolworths with HealthyFood                  Up to   10%  back on fuel purchases at bp and select Shell service stations, and up to 10% back on  Uber rides                 Up to   2.5%  back on Bank-Integrated Discovery Life plan premiums             You'll receive 10 Discovery Miles for every R1 reward you earn back.  Earn base Discovery Miles on all qualifying credit card and multicurrency debit card  purchases as you spend throughout the month. Plus, earn higher base Discovery Miles  when you use a virtual card, depending on your Vitality Money status.  Earn thousands of Discovery Miles every week on the new,  personalised gameboard with Vitality Active Rewards  Your goals  Achieve your weekly Spend, Exercise or Drive goal to unlock Activity tiles of up to Ð1,000    Your products  Unlock the Discovery tile of up to Ð750 based on how many Discovery products you  have    Your spend  Spend at our grocery, pharmacy and fuel partners to unlock the Partner Spend tiles of  up to Ð1,000 for the chance to earn your largest weekly transactions back  \"}), Document(page_content='3 Demand Savings Account  The next part of information pertains to the Demand Savings Account  Interest rates  • Earn up to 7.25% interest on your savings with Dynamic Interest Rates  • With Vitality Money, earn a Dynamic Interest Rate boost by banking healthier.  Terms and conditions apply.  • Read more about interest rates for our products.  What you get  • No minimum amount required  • Control how often and how much you save  Fees and charges  • No monthly fee  • Pay for your day-to-day transactions. View our fees guide.  What can you do  • Transfer money between linked accounts  • Pay your beneficiaries and contacts on your phone using Discovery Pay  Immediate access to your money  Control how often and how much you want to save  Save for events, special purchases and emergencies. This is the most popular savings  account.     Tax-Free Demand Savings Account  The next bit of information pertains to the Tax-Free Demand Savings Account  Take advantage of your annual tax-free investment allowance  Immediate access to your money  Save for long term goals, like retirement  Interest rates  • Earn 8% interest on your savings  What you get  • Earn interest on your savings, tax-free  • Save from R1 000, up to your annual limit  • Control how often you add to your savings  Fees and charges  • No monthly fee  • Pay for your day-to-day transactions. View our fees guide.    What can you do  • Start saving from any amount    Fixed Deposit Account  The following information pertains to', metadata={'_id': '66802215b1af5b73e43d37d0', 'type': 'plain_text', 'content': \" 3 Demand Savings Account  The next part of information pertains to the Demand Savings Account  Interest rates  • Earn up to 7.25% interest on your savings with Dynamic Interest Rates  • With Vitality Money, earn a Dynamic Interest Rate boost by banking healthier.  Terms and conditions apply.  • Read more about interest rates for our products.  What you get  • No minimum amount required  • Control how often and how much you save  Fees and charges  • No monthly fee  • Pay for your day-to-day transactions. View our fees guide.  What can you do  • Transfer money between linked accounts  • Pay your beneficiaries and contacts on your phone using Discovery Pay  Immediate access to your money  Control how often and how much you want to save  Save for events, special purchases and emergencies. This is the most popular savings  account.     Tax-Free Demand Savings Account  The next bit of information pertains to the Tax-Free Demand Savings Account  Take advantage of your annual tax-free investment allowance  Immediate access to your money  Save for long term goals, like retirement  Interest rates  • Earn 8% interest on your savings  What you get  • Earn interest on your savings, tax-free  • Save from R1 000, up to your annual limit  • Control how often you add to your savings  Fees and charges  • No monthly fee  • Pay for your day-to-day transactions. View our fees guide.    What can you do  • Start saving from any amount    Fixed Deposit Account  The following information pertains to the Fixed Deposit Account  • Up to 11.31% interest  • Earn on your savings at market-leading interest rates  • Invest a lump sum upfront  • Earn higher interest on your savings over a fixed period  Interest rates  • Earn up to 11.31% (period effective) interest paid at maturity by reinvesting your  monthly interest  • Earn up to 9% interest paid to you every month  • Earn up to 8.53% (period effective) interest paid upfront  • Learn more on our Fixed Deposit Account interest rates  What you get  • Save a lump sum upfront and earn interest monthly  • Decide how your interest is paid, and whether you re-invest it  • Negotiate a personalised interest rate for large deposits  Fees and charges  • No monthly fee  • Pay for your day-to-day transactions. View our fees guide.  • Withdrawals from your account before your investment term ends can result in a  penalty fee.  What can you do  • Minimum balance of R10 000  • Choose your investment term, from 3 to 60 months    This is general information that applies to all savings accounts and does not pertain to  one specific account only but all of them:  We quote your interest at nominal annual compounded monthly (NACM) and period effective rates. All interest  rates and fees are as at the publication date.  Remember that our savings accounts don't come with bank cards. You can get physical and virtual bank cards  when you open a transaction or credit card account   \"}), Document(page_content=\"transactions. View our fees guide.    What can you do  • Start saving from any amount    Fixed Deposit Account  The following information pertains to the Fixed Deposit Account  • Up to 11.31% interest  • Earn on your savings at market-leading interest rates  • Invest a lump sum upfront  • Earn higher interest on your savings over a fixed period  Interest rates  • Earn up to 11.31% (period effective) interest paid at maturity by reinvesting your  monthly interest  • Earn up to 9% interest paid to you every month  • Earn up to 8.53% (period effective) interest paid upfront  • Learn more on our Fixed Deposit Account interest rates  What you get  • Save a lump sum upfront and earn interest monthly  • Decide how your interest is paid, and whether you re-invest it  • Negotiate a personalised interest rate for large deposits  Fees and charges  • No monthly fee  • Pay for your day-to-day transactions. View our fees guide.  • Withdrawals from your account before your investment term ends can result in a  penalty fee.  What can you do  • Minimum balance of R10 000  • Choose your investment term, from 3 to 60 months    This is general information that applies to all savings accounts and does not pertain to  one specific account only but all of them:  We quote your interest at nominal annual compounded monthly (NACM) and period effective rates. All interest  rates and fees are as at the publication date.  Remember that our savings accounts don't come with bank cards. You can get\", metadata={'_id': '66802215b1af5b73e43d37d0', 'type': 'plain_text', 'content': \" 3 Demand Savings Account  The next part of information pertains to the Demand Savings Account  Interest rates  • Earn up to 7.25% interest on your savings with Dynamic Interest Rates  • With Vitality Money, earn a Dynamic Interest Rate boost by banking healthier.  Terms and conditions apply.  • Read more about interest rates for our products.  What you get  • No minimum amount required  • Control how often and how much you save  Fees and charges  • No monthly fee  • Pay for your day-to-day transactions. View our fees guide.  What can you do  • Transfer money between linked accounts  • Pay your beneficiaries and contacts on your phone using Discovery Pay  Immediate access to your money  Control how often and how much you want to save  Save for events, special purchases and emergencies. This is the most popular savings  account.     Tax-Free Demand Savings Account  The next bit of information pertains to the Tax-Free Demand Savings Account  Take advantage of your annual tax-free investment allowance  Immediate access to your money  Save for long term goals, like retirement  Interest rates  • Earn 8% interest on your savings  What you get  • Earn interest on your savings, tax-free  • Save from R1 000, up to your annual limit  • Control how often you add to your savings  Fees and charges  • No monthly fee  • Pay for your day-to-day transactions. View our fees guide.    What can you do  • Start saving from any amount    Fixed Deposit Account  The following information pertains to the Fixed Deposit Account  • Up to 11.31% interest  • Earn on your savings at market-leading interest rates  • Invest a lump sum upfront  • Earn higher interest on your savings over a fixed period  Interest rates  • Earn up to 11.31% (period effective) interest paid at maturity by reinvesting your  monthly interest  • Earn up to 9% interest paid to you every month  • Earn up to 8.53% (period effective) interest paid upfront  • Learn more on our Fixed Deposit Account interest rates  What you get  • Save a lump sum upfront and earn interest monthly  • Decide how your interest is paid, and whether you re-invest it  • Negotiate a personalised interest rate for large deposits  Fees and charges  • No monthly fee  • Pay for your day-to-day transactions. View our fees guide.  • Withdrawals from your account before your investment term ends can result in a  penalty fee.  What can you do  • Minimum balance of R10 000  • Choose your investment term, from 3 to 60 months    This is general information that applies to all savings accounts and does not pertain to  one specific account only but all of them:  We quote your interest at nominal annual compounded monthly (NACM) and period effective rates. All interest  rates and fees are as at the publication date.  Remember that our savings accounts don't come with bank cards. You can get physical and virtual bank cards  when you open a transaction or credit card account   \"}), Document(page_content=\"rates. All interest  rates and fees are as at the publication date.  Remember that our savings accounts don't come with bank cards. You can get physical and virtual bank cards  when you open a transaction or credit card account\", metadata={'_id': '66802215b1af5b73e43d37d0', 'type': 'plain_text', 'content': \" 3 Demand Savings Account  The next part of information pertains to the Demand Savings Account  Interest rates  • Earn up to 7.25% interest on your savings with Dynamic Interest Rates  • With Vitality Money, earn a Dynamic Interest Rate boost by banking healthier.  Terms and conditions apply.  • Read more about interest rates for our products.  What you get  • No minimum amount required  • Control how often and how much you save  Fees and charges  • No monthly fee  • Pay for your day-to-day transactions. View our fees guide.  What can you do  • Transfer money between linked accounts  • Pay your beneficiaries and contacts on your phone using Discovery Pay  Immediate access to your money  Control how often and how much you want to save  Save for events, special purchases and emergencies. This is the most popular savings  account.     Tax-Free Demand Savings Account  The next bit of information pertains to the Tax-Free Demand Savings Account  Take advantage of your annual tax-free investment allowance  Immediate access to your money  Save for long term goals, like retirement  Interest rates  • Earn 8% interest on your savings  What you get  • Earn interest on your savings, tax-free  • Save from R1 000, up to your annual limit  • Control how often you add to your savings  Fees and charges  • No monthly fee  • Pay for your day-to-day transactions. View our fees guide.    What can you do  • Start saving from any amount    Fixed Deposit Account  The following information pertains to the Fixed Deposit Account  • Up to 11.31% interest  • Earn on your savings at market-leading interest rates  • Invest a lump sum upfront  • Earn higher interest on your savings over a fixed period  Interest rates  • Earn up to 11.31% (period effective) interest paid at maturity by reinvesting your  monthly interest  • Earn up to 9% interest paid to you every month  • Earn up to 8.53% (period effective) interest paid upfront  • Learn more on our Fixed Deposit Account interest rates  What you get  • Save a lump sum upfront and earn interest monthly  • Decide how your interest is paid, and whether you re-invest it  • Negotiate a personalised interest rate for large deposits  Fees and charges  • No monthly fee  • Pay for your day-to-day transactions. View our fees guide.  • Withdrawals from your account before your investment term ends can result in a  penalty fee.  What can you do  • Minimum balance of R10 000  • Choose your investment term, from 3 to 60 months    This is general information that applies to all savings accounts and does not pertain to  one specific account only but all of them:  We quote your interest at nominal annual compounded monthly (NACM) and period effective rates. All interest  rates and fees are as at the publication date.  Remember that our savings accounts don't come with bank cards. You can get physical and virtual bank cards  when you open a transaction or credit card account   \"}), Document(page_content=\"1        The Discovery Bank  Platinum Card Account  Qualifying income from R350,000 to R850,000 a year  R155 per month  Exceptional banking that puts you in control     The Discovery Bank Platinum Card Account is more than just a credit card. It offers  comprehensive features, exclusive benefits, and lifestyle rewards.  Your enhanced credit card has full transactional capabilities including the ability to set up  third-party debit orders, make digital payments and accept salary deposits. Plus, get up to  55 days' interest-free credit on select transactions, and manage your credit easily with the  most flexible credit facility in the market. You also get access to the only Real-Time Forex  Accounts, available 24/7 on your banking app.  Engage with our Vitality Money programme and unlock your personalised shared-value  stack of lifestyle and travel rewards. You can get incredible flight savings and access to The  Lounge in South Africa.  And that's only the beginning.  Get the account that rewards you for getting financially fit  Discovery Bank rewards clients with Discovery Miles for getting healthier, driving well and  spending responsibly. Discovery Miles is Discovery's rewards currency that's more  versatile - and more valuable - than cash, with more ways to earn and spend them than  ever before.  Up to   50%  back on healthy groceries at Pick n Pay or Woolworths with HealthyFood               Up to   50%  back on personal care items at Clicks or Dis-Chem with HealthyCare,\", metadata={'_id': '6680227fb1af5b73e43d37d4', 'type': 'plain_text', 'content': \" 1        The Discovery Bank  Platinum Card Account  Qualifying income from R350,000 to R850,000 a year  R155 per month  Exceptional banking that puts you in control     The Discovery Bank Platinum Card Account is more than just a credit card. It offers  comprehensive features, exclusive benefits, and lifestyle rewards.  Your enhanced credit card has full transactional capabilities including the ability to set up  third-party debit orders, make digital payments and accept salary deposits. Plus, get up to  55 days' interest-free credit on select transactions, and manage your credit easily with the  most flexible credit facility in the market. You also get access to the only Real-Time Forex  Accounts, available 24/7 on your banking app.  Engage with our Vitality Money programme and unlock your personalised shared-value  stack of lifestyle and travel rewards. You can get incredible flight savings and access to The  Lounge in South Africa.  And that's only the beginning.  Get the account that rewards you for getting financially fit  Discovery Bank rewards clients with Discovery Miles for getting healthier, driving well and  spending responsibly. Discovery Miles is Discovery's rewards currency that's more  versatile - and more valuable - than cash, with more ways to earn and spend them than  ever before.  Up to   50%  back on healthy groceries at Pick n Pay or Woolworths with HealthyFood               Up to   50%  back on personal care items at Clicks or Dis-Chem with HealthyCare, and on baby essentials  at Babies R Us, Toys R Us or Dis-Chem Baby City with HealthyBaby            Up to   15%  back on fuel purchases at bp and select Shell service stations, and up to 15% back on Uber  rides                 Up to   3.5%  back on Bank-Integrated Discovery Life plan premiums             You'll receive 10 Discovery Miles for every R1 reward you earn back.  Earn base Discovery Miles on all qualifying credit card and multicurrency debit card  purchases as you spend throughout the month. Plus, earn higher base Discovery Miles when  you use a virtual card, depending on your Vitality Money status.  Earn thousands of Discovery Miles every week on the new,  personalised gameboard with Vitality Active Rewards  Your goals  Achieve your weekly Spend, Exercise or Drive goal to unlock Activity tiles of up to Ð1,000    Your products  \"}), Document(page_content=\"groceries at Pick n Pay or Woolworths with HealthyFood               Up to   50%  back on personal care items at Clicks or Dis-Chem with HealthyCare, and on baby essentials  at Babies R Us, Toys R Us or Dis-Chem Baby City with HealthyBaby            Up to   15%  back on fuel purchases at bp and select Shell service stations, and up to 15% back on Uber  rides                 Up to   3.5%  back on Bank-Integrated Discovery Life plan premiums             You'll receive 10 Discovery Miles for every R1 reward you earn back.  Earn base Discovery Miles on all qualifying credit card and multicurrency debit card  purchases as you spend throughout the month. Plus, earn higher base Discovery Miles when  you use a virtual card, depending on your Vitality Money status.  Earn thousands of Discovery Miles every week on the new,  personalised gameboard with Vitality Active Rewards  Your goals  Achieve your weekly Spend, Exercise or Drive goal to unlock Activity tiles of up to Ð1,000    Your products\", metadata={'_id': '6680227fb1af5b73e43d37d4', 'type': 'plain_text', 'content': \" 1        The Discovery Bank  Platinum Card Account  Qualifying income from R350,000 to R850,000 a year  R155 per month  Exceptional banking that puts you in control     The Discovery Bank Platinum Card Account is more than just a credit card. It offers  comprehensive features, exclusive benefits, and lifestyle rewards.  Your enhanced credit card has full transactional capabilities including the ability to set up  third-party debit orders, make digital payments and accept salary deposits. Plus, get up to  55 days' interest-free credit on select transactions, and manage your credit easily with the  most flexible credit facility in the market. You also get access to the only Real-Time Forex  Accounts, available 24/7 on your banking app.  Engage with our Vitality Money programme and unlock your personalised shared-value  stack of lifestyle and travel rewards. You can get incredible flight savings and access to The  Lounge in South Africa.  And that's only the beginning.  Get the account that rewards you for getting financially fit  Discovery Bank rewards clients with Discovery Miles for getting healthier, driving well and  spending responsibly. Discovery Miles is Discovery's rewards currency that's more  versatile - and more valuable - than cash, with more ways to earn and spend them than  ever before.  Up to   50%  back on healthy groceries at Pick n Pay or Woolworths with HealthyFood               Up to   50%  back on personal care items at Clicks or Dis-Chem with HealthyCare, and on baby essentials  at Babies R Us, Toys R Us or Dis-Chem Baby City with HealthyBaby            Up to   15%  back on fuel purchases at bp and select Shell service stations, and up to 15% back on Uber  rides                 Up to   3.5%  back on Bank-Integrated Discovery Life plan premiums             You'll receive 10 Discovery Miles for every R1 reward you earn back.  Earn base Discovery Miles on all qualifying credit card and multicurrency debit card  purchases as you spend throughout the month. Plus, earn higher base Discovery Miles when  you use a virtual card, depending on your Vitality Money status.  Earn thousands of Discovery Miles every week on the new,  personalised gameboard with Vitality Active Rewards  Your goals  Achieve your weekly Spend, Exercise or Drive goal to unlock Activity tiles of up to Ð1,000    Your products  \"}), Document(page_content='Client Name: John\\nClient Age: N/A\\nClient Address: N/A', metadata={'_id': '66802346b1af5b73e43d37d6', 'name': 'John', 'expenses': 1000, 'income': 2000}), Document(page_content='Client Name: John Doe\\nClient Age: 35\\nClient Address: 1234 Elm Street, Springfield, IL\\nAccount ID: 101, Type: savings, Balance: 5000.75\\nAccount ID: 102, Type: checking, Balance: 1500.5\\nTransaction ID: 1001, Account ID: 101, Date: 2024-06-01, Amount: -200, Description: ATM Withdrawal\\nTransaction ID: 1002, Account ID: 102, Date: 2024-06-15, Amount: 500, Description: Paycheck Deposit', metadata={'_id': '668025acb1af5b73e43d37d8', 'client_id': 1, 'name': 'John Doe', 'age': 35, 'address': '1234 Elm Street, Springfield, IL'})]\n"
          ]
        }
      ],
      "source": [
        "print(splits)"
      ]
    },
    {
      "cell_type": "code",
      "execution_count": 47,
      "metadata": {
        "id": "NLuCa5qReVkt"
      },
      "outputs": [],
      "source": [
        "os.environ[\"OPENAI_API_KEY\"] = \"sk-proj-hegQLFsJdDkZ4Od0H7nzT3BlbkFJ85wscHePDEop2V242Bqc\""
      ]
    },
    {
      "cell_type": "code",
      "execution_count": 48,
      "metadata": {
        "id": "9gsNzMJYt90x"
      },
      "outputs": [
        {
          "name": "stderr",
          "output_type": "stream",
          "text": [
            "C:\\Users\\ryanj\\AppData\\Local\\Packages\\PythonSoftwareFoundation.Python.3.9_qbz5n2kfra8p0\\LocalCache\\local-packages\\Python39\\site-packages\\langchain_core\\_api\\deprecation.py:139: LangChainDeprecationWarning: The class `ChatOpenAI` was deprecated in LangChain 0.0.10 and will be removed in 0.3.0. An updated version of the class exists in the langchain-openai package and should be used instead. To use it run `pip install -U langchain-openai` and import as `from langchain_openai import ChatOpenAI`.\n",
            "  warn_deprecated(\n"
          ]
        }
      ],
      "source": [
        "from langchain.chat_models import ChatOpenAI\n",
        "llm_name = \"gpt-3.5-turbo\"\n",
        "llm = ChatOpenAI(model_name=llm_name, temperature=0)"
      ]
    },
    {
      "cell_type": "code",
      "execution_count": 49,
      "metadata": {
        "id": "G3449lQluP-w"
      },
      "outputs": [],
      "source": [
        "from langchain.chains import RetrievalQA\n",
        "\n",
        "qa_chain = RetrievalQA.from_chain_type(\n",
        "    llm,\n",
        "    retriever=vectordb.as_retriever()\n",
        ")"
      ]
    },
    {
      "cell_type": "code",
      "execution_count": 56,
      "metadata": {
        "id": "x0xMZKRuyBR-"
      },
      "outputs": [],
      "source": [
        "from langchain.prompts import PromptTemplate\n",
        "\n",
        "# Build enhanced prompt\n",
        "template = \"\"\"\n",
        "You are a highly knowledgeable and reliable financial advisor. \n",
        "Use the provided context to answer the questions accurately and professionally.\n",
        "If the context does not contain enough information or you are unsure of the answer, clearly state that you don't know. \n",
        "Always prioritize the user's financial well-being and avoid making assumptions.\n",
        "Always elborate in your answers and tell the user why you came up with the conclusion you came up with.\n",
        "\n",
        "Context:\n",
        "{context}\n",
        "\n",
        "Question: {question}\n",
        "\n",
        "Professional Answer:\n",
        "\"\"\"\n",
        "\n",
        "QA_CHAIN_PROMPT = PromptTemplate.from_template(template)\n",
        "\n",
        "# Run chain\n",
        "qa_chain = RetrievalQA.from_chain_type(\n",
        "    llm,\n",
        "    retriever=vectordb.as_retriever(),\n",
        "    return_source_documents=True,\n",
        "    chain_type_kwargs={\"prompt\": QA_CHAIN_PROMPT}\n",
        ")\n"
      ]
    },
    {
      "cell_type": "code",
      "execution_count": 67,
      "metadata": {
        "colab": {
          "base_uri": "https://localhost:8080/",
          "height": 53
        },
        "id": "xt1DhQ-9ltML",
        "outputId": "4e172e8a-5990-4dbc-e513-a84d5b0fe5e1"
      },
      "outputs": [
        {
          "data": {
            "text/plain": [
              "\"Based on the information provided, I would recommend the Discovery Bank Gold Card Account for John Doe. This account offers flexibility, affordability, and a range of benefits beyond just a credit card. With qualifying income within the specified range, John Doe would be eligible for this account. The account provides transactional capabilities, interest-free credit on select transactions, the ability to set up third-party debit orders, make digital payments, and accept salary deposits. Additionally, John Doe can add free savings accounts as needed and access Real-Time Forex Accounts. Engaging with the Vitality Money program can also unlock lifestyle and travel rewards. Overall, this account seems to align well with John Doe's financial needs and goals.\""
            ]
          },
          "execution_count": 67,
          "metadata": {},
          "output_type": "execute_result"
        }
      ],
      "source": [
        "question = \"What account do you reccomend for John Doe?\"\n",
        "result = qa_chain({\"query\": question})\n",
        "# Check the result of the query\n",
        "result[\"result\"]\n",
        "# Check the source document from where we\n",
        "#result[\"source_documents\"][0]"
      ]
    }
  ],
  "metadata": {
    "colab": {
      "provenance": []
    },
    "kernelspec": {
      "display_name": "Python 3",
      "name": "python3"
    },
    "language_info": {
      "codemirror_mode": {
        "name": "ipython",
        "version": 3
      },
      "file_extension": ".py",
      "mimetype": "text/x-python",
      "name": "python",
      "nbconvert_exporter": "python",
      "pygments_lexer": "ipython3",
      "version": "3.9.13"
    }
  },
  "nbformat": 4,
  "nbformat_minor": 0
}
